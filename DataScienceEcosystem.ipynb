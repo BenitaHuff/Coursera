{
 "cells": [
  {
   "cell_type": "markdown",
   "id": "56aafed9",
   "metadata": {},
   "source": [
    "# Data Science Tools and Ecosystem"
   ]
  },
  {
   "cell_type": "markdown",
   "id": "205148ab",
   "metadata": {},
   "source": [
    "## Author\n",
    "Benita Huff"
   ]
  },
  {
   "cell_type": "markdown",
   "id": "4b7ce098",
   "metadata": {},
   "source": [
    "In this notebook, Data Science Tools and Ecosystem are summarized."
   ]
  },
  {
   "cell_type": "markdown",
   "id": "1b17bb59",
   "metadata": {},
   "source": [
    "**Objectives:**\n",
    "* List popular languages of Data Scientists\n",
    "* List commonly used libraries of Data Scientists\n",
    "* List Data Science Tools\n",
    "* Show examples of using match in Jupyter"
   ]
  },
  {
   "cell_type": "markdown",
   "id": "3985f182",
   "metadata": {},
   "source": [
    "Some of the popular languages that Data Scientists use are:"
   ]
  },
  {
   "cell_type": "markdown",
   "id": "0c540fd1",
   "metadata": {},
   "source": [
    "  1. Python\n",
    "  2. R\n",
    "  3. SQL\n",
    "  4. Scala\n",
    "  5. julia\n",
    "  6. C++"
   ]
  },
  {
   "cell_type": "markdown",
   "id": "1b2baa75",
   "metadata": {},
   "source": [
    "Some of the commonly used libraries used by Data Scientists include:\n",
    "    \n",
    "1. Pandas\n",
    "2. Matplotlib\n",
    "3. Scikit\n",
    "4. TensorFlow"
   ]
  },
  {
   "cell_type": "markdown",
   "id": "a0eeee10",
   "metadata": {},
   "source": [
    "|Data Science Tools|\n",
    ":-:\n",
    "|MySQL|\n",
    "|Apache Airflow|\n",
    "|Pixie Dust|"
   ]
  },
  {
   "cell_type": "markdown",
   "id": "23bac2a5",
   "metadata": {},
   "source": [
    "### Below are a few examples of evaluating arithmetic expression in Python"
   ]
  },
  {
   "cell_type": "markdown",
   "id": "242395f5",
   "metadata": {},
   "source": [
    "This is a simple arithmetic expression to multiply then add intergers"
   ]
  },
  {
   "cell_type": "code",
   "execution_count": 4,
   "id": "7b4ad1dd",
   "metadata": {},
   "outputs": [
    {
     "data": {
      "text/plain": [
       "17"
      ]
     },
     "execution_count": 4,
     "metadata": {},
     "output_type": "execute_result"
    }
   ],
   "source": [
    "(3*4)+5"
   ]
  },
  {
   "cell_type": "markdown",
   "id": "f8188714",
   "metadata": {},
   "source": [
    "This will convert 200 minutes to hours by dividing by 60"
   ]
  },
  {
   "cell_type": "code",
   "execution_count": 5,
   "id": "3320b15f",
   "metadata": {
    "scrolled": true
   },
   "outputs": [
    {
     "data": {
      "text/plain": [
       "3.3333333333333335"
      ]
     },
     "execution_count": 5,
     "metadata": {},
     "output_type": "execute_result"
    }
   ],
   "source": [
    "200/60"
   ]
  },
  {
   "cell_type": "code",
   "execution_count": null,
   "id": "429282a9",
   "metadata": {},
   "outputs": [],
   "source": []
  }
 ],
 "metadata": {
  "kernelspec": {
   "display_name": "Python 3 (ipykernel)",
   "language": "python",
   "name": "python3"
  },
  "language_info": {
   "codemirror_mode": {
    "name": "ipython",
    "version": 3
   },
   "file_extension": ".py",
   "mimetype": "text/x-python",
   "name": "python",
   "nbconvert_exporter": "python",
   "pygments_lexer": "ipython3",
   "version": "3.10.10"
  }
 },
 "nbformat": 4,
 "nbformat_minor": 5
}
